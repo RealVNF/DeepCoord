{
 "cells": [
  {
   "cell_type": "markdown",
   "metadata": {},
   "source": [
    "# DeepCoord Quick Start\n",
    "\n",
    "With this notebook, you can get started with DeepCoord quickly.\n",
    "\n",
    "You will set up and run DeepCoord, observe its training curves over time, and analyze some results.\n",
    "\n",
    "Please note that this is just meant to get you started - you will likely have to adjust and extend this code to achieve what you want.\n",
    "\n",
    "\n",
    "## Set up and Test DeepCoord"
   ]
  },
  {
   "cell_type": "code",
   "execution_count": 3,
   "metadata": {},
   "outputs": [
    {
     "name": "stdout",
     "output_type": "stream",
     "text": [
      "Requirement already satisfied: deepcoord in ./src (1.1.1)\n",
      "Requirement already satisfied: click==7.0 in ./venv-wsl/lib/python3.6/site-packages (from deepcoord) (7.0)\n",
      "Requirement already satisfied: cloudpickle==1.2 in ./venv-wsl/lib/python3.6/site-packages (from deepcoord) (1.2.0)\n",
      "Requirement already satisfied: flake8 in ./venv-wsl/lib/python3.6/site-packages (from deepcoord) (3.9.0)\n",
      "Requirement already satisfied: gym[atari]==0.14.0 in ./venv-wsl/lib/python3.6/site-packages (from deepcoord) (0.14.0)\n",
      "Requirement already satisfied: h5py==2.10 in ./venv-wsl/lib/python3.6/site-packages (from deepcoord) (2.10.0)\n",
      "Requirement already satisfied: keras-rl==0.4.2 in ./venv-wsl/lib/python3.6/site-packages (from deepcoord) (0.4.2)\n",
      "Requirement already satisfied: keras==2.2.5 in ./venv-wsl/lib/python3.6/site-packages (from deepcoord) (2.2.5)\n",
      "Requirement already satisfied: nose2 in ./venv-wsl/lib/python3.6/site-packages (from deepcoord) (0.10.0)\n",
      "Requirement already satisfied: numpy<1.19,>=1.16.5 in ./venv-wsl/lib/python3.6/site-packages (from deepcoord) (1.18.5)\n",
      "Requirement already satisfied: pandas==1.0.0 in ./venv-wsl/lib/python3.6/site-packages (from deepcoord) (1.0.0)\n",
      "Requirement already satisfied: tensorflow==1.14.0 in ./venv-wsl/lib/python3.6/site-packages (from deepcoord) (1.14.0)\n",
      "Requirement already satisfied: mccabe<0.7.0,>=0.6.0 in ./venv-wsl/lib/python3.6/site-packages (from flake8->deepcoord) (0.6.1)\n",
      "Requirement already satisfied: pyflakes<2.4.0,>=2.3.0 in ./venv-wsl/lib/python3.6/site-packages (from flake8->deepcoord) (2.3.1)\n",
      "Requirement already satisfied: pycodestyle<2.8.0,>=2.7.0 in ./venv-wsl/lib/python3.6/site-packages (from flake8->deepcoord) (2.7.0)\n",
      "Requirement already satisfied: importlib-metadata; python_version < \"3.8\" in ./venv-wsl/lib/python3.6/site-packages (from flake8->deepcoord) (3.10.0)\n",
      "Requirement already satisfied: six in ./venv-wsl/lib/python3.6/site-packages (from gym[atari]==0.14.0->deepcoord) (1.14.0)\n",
      "Requirement already satisfied: scipy in ./venv-wsl/lib/python3.6/site-packages (from gym[atari]==0.14.0->deepcoord) (1.5.4)\n",
      "Requirement already satisfied: pyglet<=1.3.2,>=1.2.0 in ./venv-wsl/lib/python3.6/site-packages (from gym[atari]==0.14.0->deepcoord) (1.3.2)\n",
      "Requirement already satisfied: Pillow; extra == \"atari\" in ./venv-wsl/lib/python3.6/site-packages (from gym[atari]==0.14.0->deepcoord) (8.2.0)\n",
      "Requirement already satisfied: atari-py~=0.2.0; extra == \"atari\" in ./venv-wsl/lib/python3.6/site-packages (from gym[atari]==0.14.0->deepcoord) (0.2.6)\n",
      "Requirement already satisfied: opencv-python; extra == \"atari\" in ./venv-wsl/lib/python3.6/site-packages (from gym[atari]==0.14.0->deepcoord) (4.5.1.48)\n",
      "Requirement already satisfied: pyyaml in ./venv-wsl/lib/python3.6/site-packages (from keras==2.2.5->deepcoord) (5.4.1)\n",
      "Requirement already satisfied: keras-preprocessing>=1.1.0 in ./venv-wsl/lib/python3.6/site-packages (from keras==2.2.5->deepcoord) (1.1.2)\n",
      "Requirement already satisfied: keras-applications>=1.0.8 in ./venv-wsl/lib/python3.6/site-packages (from keras==2.2.5->deepcoord) (1.0.8)\n",
      "Requirement already satisfied: coverage>=4.4.1 in ./venv-wsl/lib/python3.6/site-packages (from nose2->deepcoord) (5.5)\n",
      "Requirement already satisfied: pytz>=2017.2 in ./venv-wsl/lib/python3.6/site-packages (from pandas==1.0.0->deepcoord) (2021.1)\n",
      "Requirement already satisfied: python-dateutil>=2.6.1 in ./venv-wsl/lib/python3.6/site-packages (from pandas==1.0.0->deepcoord) (2.8.1)\n",
      "Requirement already satisfied: gast>=0.2.0 in ./venv-wsl/lib/python3.6/site-packages (from tensorflow==1.14.0->deepcoord) (0.4.0)\n",
      "Requirement already satisfied: google-pasta>=0.1.6 in ./venv-wsl/lib/python3.6/site-packages (from tensorflow==1.14.0->deepcoord) (0.2.0)\n",
      "Requirement already satisfied: protobuf>=3.6.1 in ./venv-wsl/lib/python3.6/site-packages (from tensorflow==1.14.0->deepcoord) (3.15.7)\n",
      "Requirement already satisfied: tensorboard<1.15.0,>=1.14.0 in ./venv-wsl/lib/python3.6/site-packages (from tensorflow==1.14.0->deepcoord) (1.14.0)\n",
      "Requirement already satisfied: tensorflow-estimator<1.15.0rc0,>=1.14.0rc0 in ./venv-wsl/lib/python3.6/site-packages (from tensorflow==1.14.0->deepcoord) (1.14.0)\n",
      "Requirement already satisfied: wrapt>=1.11.1 in ./venv-wsl/lib/python3.6/site-packages (from tensorflow==1.14.0->deepcoord) (1.12.1)\n",
      "Requirement already satisfied: grpcio>=1.8.6 in ./venv-wsl/lib/python3.6/site-packages (from tensorflow==1.14.0->deepcoord) (1.36.1)\n",
      "Requirement already satisfied: termcolor>=1.1.0 in ./venv-wsl/lib/python3.6/site-packages (from tensorflow==1.14.0->deepcoord) (1.1.0)\n",
      "Requirement already satisfied: astor>=0.6.0 in ./venv-wsl/lib/python3.6/site-packages (from tensorflow==1.14.0->deepcoord) (0.8.1)\n",
      "Requirement already satisfied: wheel>=0.26 in ./venv-wsl/lib/python3.6/site-packages (from tensorflow==1.14.0->deepcoord) (0.34.2)\n",
      "Requirement already satisfied: absl-py>=0.7.0 in ./venv-wsl/lib/python3.6/site-packages (from tensorflow==1.14.0->deepcoord) (0.12.0)\n",
      "Requirement already satisfied: zipp>=0.5 in ./venv-wsl/lib/python3.6/site-packages (from importlib-metadata; python_version < \"3.8\"->flake8->deepcoord) (3.4.1)\n",
      "Requirement already satisfied: typing-extensions>=3.6.4; python_version < \"3.8\" in ./venv-wsl/lib/python3.6/site-packages (from importlib-metadata; python_version < \"3.8\"->flake8->deepcoord) (3.7.4.3)\n",
      "Requirement already satisfied: future in ./venv-wsl/lib/python3.6/site-packages (from pyglet<=1.3.2,>=1.2.0->gym[atari]==0.14.0->deepcoord) (0.18.2)\n",
      "Requirement already satisfied: setuptools>=41.0.0 in ./venv-wsl/lib/python3.6/site-packages (from tensorboard<1.15.0,>=1.14.0->tensorflow==1.14.0->deepcoord) (44.0.0)\n",
      "Requirement already satisfied: markdown>=2.6.8 in ./venv-wsl/lib/python3.6/site-packages (from tensorboard<1.15.0,>=1.14.0->tensorflow==1.14.0->deepcoord) (3.3.4)\n",
      "Requirement already satisfied: werkzeug>=0.11.15 in ./venv-wsl/lib/python3.6/site-packages (from tensorboard<1.15.0,>=1.14.0->tensorflow==1.14.0->deepcoord) (1.0.1)\n"
     ]
    }
   ],
   "source": [
    "# clone and install deepcoord --> skip this if you already installed deepcoord\n",
    "!git clone https://github.com/RealVNF/DeepCoord.git\n",
    "\n",
    "%cd DeepCoord\n",
    "!pip install -r requirements.txt"
   ]
  },
  {
   "cell_type": "code",
   "execution_count": 7,
   "metadata": {
    "collapsed": false,
    "jupyter": {
     "outputs_hidden": false
    },
    "pycharm": {
     "name": "#%%\n"
    }
   },
   "outputs": [
    {
     "name": "stdout",
     "output_type": "stream",
     "text": [
      "Using TensorFlow backend.\n",
      "/mnt/c/Users/Stefan/git-repos/work/swc/DeepCoord/venv-wsl/lib/python3.6/site-packages/tensorflow/python/framework/dtypes.py:516: FutureWarning: Passing (type, 1) or '1type' as a synonym of type is deprecated; in a future version of numpy, it will be understood as (type, (1,)) / '(1,)type'.\n",
      "  _np_qint8 = np.dtype([(\"qint8\", np.int8, 1)])\n",
      "/mnt/c/Users/Stefan/git-repos/work/swc/DeepCoord/venv-wsl/lib/python3.6/site-packages/tensorflow/python/framework/dtypes.py:517: FutureWarning: Passing (type, 1) or '1type' as a synonym of type is deprecated; in a future version of numpy, it will be understood as (type, (1,)) / '(1,)type'.\n",
      "  _np_quint8 = np.dtype([(\"quint8\", np.uint8, 1)])\n",
      "/mnt/c/Users/Stefan/git-repos/work/swc/DeepCoord/venv-wsl/lib/python3.6/site-packages/tensorflow/python/framework/dtypes.py:518: FutureWarning: Passing (type, 1) or '1type' as a synonym of type is deprecated; in a future version of numpy, it will be understood as (type, (1,)) / '(1,)type'.\n",
      "  _np_qint16 = np.dtype([(\"qint16\", np.int16, 1)])\n",
      "/mnt/c/Users/Stefan/git-repos/work/swc/DeepCoord/venv-wsl/lib/python3.6/site-packages/tensorflow/python/framework/dtypes.py:519: FutureWarning: Passing (type, 1) or '1type' as a synonym of type is deprecated; in a future version of numpy, it will be understood as (type, (1,)) / '(1,)type'.\n",
      "  _np_quint16 = np.dtype([(\"quint16\", np.uint16, 1)])\n",
      "/mnt/c/Users/Stefan/git-repos/work/swc/DeepCoord/venv-wsl/lib/python3.6/site-packages/tensorflow/python/framework/dtypes.py:520: FutureWarning: Passing (type, 1) or '1type' as a synonym of type is deprecated; in a future version of numpy, it will be understood as (type, (1,)) / '(1,)type'.\n",
      "  _np_qint32 = np.dtype([(\"qint32\", np.int32, 1)])\n",
      "/mnt/c/Users/Stefan/git-repos/work/swc/DeepCoord/venv-wsl/lib/python3.6/site-packages/tensorflow/python/framework/dtypes.py:525: FutureWarning: Passing (type, 1) or '1type' as a synonym of type is deprecated; in a future version of numpy, it will be understood as (type, (1,)) / '(1,)type'.\n",
      "  np_resource = np.dtype([(\"resource\", np.ubyte, 1)])\n",
      "/mnt/c/Users/Stefan/git-repos/work/swc/DeepCoord/venv-wsl/lib/python3.6/site-packages/tensorboard/compat/tensorflow_stub/dtypes.py:541: FutureWarning: Passing (type, 1) or '1type' as a synonym of type is deprecated; in a future version of numpy, it will be understood as (type, (1,)) / '(1,)type'.\n",
      "  _np_qint8 = np.dtype([(\"qint8\", np.int8, 1)])\n",
      "/mnt/c/Users/Stefan/git-repos/work/swc/DeepCoord/venv-wsl/lib/python3.6/site-packages/tensorboard/compat/tensorflow_stub/dtypes.py:542: FutureWarning: Passing (type, 1) or '1type' as a synonym of type is deprecated; in a future version of numpy, it will be understood as (type, (1,)) / '(1,)type'.\n",
      "  _np_quint8 = np.dtype([(\"quint8\", np.uint8, 1)])\n",
      "/mnt/c/Users/Stefan/git-repos/work/swc/DeepCoord/venv-wsl/lib/python3.6/site-packages/tensorboard/compat/tensorflow_stub/dtypes.py:543: FutureWarning: Passing (type, 1) or '1type' as a synonym of type is deprecated; in a future version of numpy, it will be understood as (type, (1,)) / '(1,)type'.\n",
      "  _np_qint16 = np.dtype([(\"qint16\", np.int16, 1)])\n",
      "/mnt/c/Users/Stefan/git-repos/work/swc/DeepCoord/venv-wsl/lib/python3.6/site-packages/tensorboard/compat/tensorflow_stub/dtypes.py:544: FutureWarning: Passing (type, 1) or '1type' as a synonym of type is deprecated; in a future version of numpy, it will be understood as (type, (1,)) / '(1,)type'.\n",
      "  _np_quint16 = np.dtype([(\"quint16\", np.uint16, 1)])\n",
      "/mnt/c/Users/Stefan/git-repos/work/swc/DeepCoord/venv-wsl/lib/python3.6/site-packages/tensorboard/compat/tensorflow_stub/dtypes.py:545: FutureWarning: Passing (type, 1) or '1type' as a synonym of type is deprecated; in a future version of numpy, it will be understood as (type, (1,)) / '(1,)type'.\n",
      "  _np_qint32 = np.dtype([(\"qint32\", np.int32, 1)])\n",
      "/mnt/c/Users/Stefan/git-repos/work/swc/DeepCoord/venv-wsl/lib/python3.6/site-packages/tensorboard/compat/tensorflow_stub/dtypes.py:550: FutureWarning: Passing (type, 1) or '1type' as a synonym of type is deprecated; in a future version of numpy, it will be understood as (type, (1,)) / '(1,)type'.\n",
      "  np_resource = np.dtype([(\"resource\", np.ubyte, 1)])\n",
      "Usage: deepcoord [OPTIONS] AGENT_CONFIG NETWORK SERVICE SIM_CONFIG EPISODES\n",
      "\n",
      "  rlsp cli for learning and testing\n",
      "\n",
      "Options:\n",
      "  --seed INTEGER            Specify the random seed for the environment and\n",
      "                            the learning agent.\n",
      "  -t, --test TEXT           Name of the training run whose weights should be\n",
      "                            used for testing.\n",
      "  -w, --weights TEXT        Continue training with the specified weights\n",
      "                            (similar to testing)\n",
      "  -a, --append-test         Append a test run of the previously trained agent.\n",
      "  -v, --verbose             Set console logger level to debug. (Default is\n",
      "                            INFO)\n",
      "  -b, --best                Test the best of the trained agents so far.\n",
      "  -ss, --sim-seed INTEGER   Set the simulator seed\n",
      "  -gs, --gen-scenario PATH  Diff. sim config file for additional scenario test\n",
      "  -h, --help                Show this message and exit.\n"
     ]
    }
   ],
   "source": [
    "# ensure deepcoord is installed properly\n",
    "# ignore TensorFlow warnings --> should show available CLI options at the end\n",
    "!deepcoord -h"
   ]
  },
  {
   "cell_type": "markdown",
   "metadata": {},
   "source": [
    "## Run DeepCoord\n",
    "\n",
    "Run DeepCoord with a small example, using the small example configurations in the `res` folder: `res/config/agent/sample_agent.yaml res/networks/sample_network.graphml res/service_functions/abc.yaml res/config/simulator/sample_config.yaml`\n",
    "\n",
    "Just train for 10 training episodes, each with 200 steps, i.e., resulting in 2000 training steps.\n",
    "\n",
    "`--append-test` runs one test iteration after finishing training, which collects the results for evalution (metrics are not written during training to save time and space). \n",
    "The results will be saved in the `results` folder (created automatically)."
   ]
  },
  {
   "cell_type": "code",
   "execution_count": 5,
   "metadata": {},
   "outputs": [
    {
     "name": "stdout",
     "output_type": "stream",
     "text": [
      "Using TensorFlow backend.\n",
      "/mnt/c/Users/Stefan/git-repos/work/swc/DeepCoord/venv-wsl/lib/python3.6/site-packages/tensorflow/python/framework/dtypes.py:516: FutureWarning: Passing (type, 1) or '1type' as a synonym of type is deprecated; in a future version of numpy, it will be understood as (type, (1,)) / '(1,)type'.\n",
      "  _np_qint8 = np.dtype([(\"qint8\", np.int8, 1)])\n",
      "/mnt/c/Users/Stefan/git-repos/work/swc/DeepCoord/venv-wsl/lib/python3.6/site-packages/tensorflow/python/framework/dtypes.py:517: FutureWarning: Passing (type, 1) or '1type' as a synonym of type is deprecated; in a future version of numpy, it will be understood as (type, (1,)) / '(1,)type'.\n",
      "  _np_quint8 = np.dtype([(\"quint8\", np.uint8, 1)])\n",
      "/mnt/c/Users/Stefan/git-repos/work/swc/DeepCoord/venv-wsl/lib/python3.6/site-packages/tensorflow/python/framework/dtypes.py:518: FutureWarning: Passing (type, 1) or '1type' as a synonym of type is deprecated; in a future version of numpy, it will be understood as (type, (1,)) / '(1,)type'.\n",
      "  _np_qint16 = np.dtype([(\"qint16\", np.int16, 1)])\n",
      "/mnt/c/Users/Stefan/git-repos/work/swc/DeepCoord/venv-wsl/lib/python3.6/site-packages/tensorflow/python/framework/dtypes.py:519: FutureWarning: Passing (type, 1) or '1type' as a synonym of type is deprecated; in a future version of numpy, it will be understood as (type, (1,)) / '(1,)type'.\n",
      "  _np_quint16 = np.dtype([(\"quint16\", np.uint16, 1)])\n",
      "/mnt/c/Users/Stefan/git-repos/work/swc/DeepCoord/venv-wsl/lib/python3.6/site-packages/tensorflow/python/framework/dtypes.py:520: FutureWarning: Passing (type, 1) or '1type' as a synonym of type is deprecated; in a future version of numpy, it will be understood as (type, (1,)) / '(1,)type'.\n",
      "  _np_qint32 = np.dtype([(\"qint32\", np.int32, 1)])\n",
      "/mnt/c/Users/Stefan/git-repos/work/swc/DeepCoord/venv-wsl/lib/python3.6/site-packages/tensorflow/python/framework/dtypes.py:525: FutureWarning: Passing (type, 1) or '1type' as a synonym of type is deprecated; in a future version of numpy, it will be understood as (type, (1,)) / '(1,)type'.\n",
      "  np_resource = np.dtype([(\"resource\", np.ubyte, 1)])\n",
      "/mnt/c/Users/Stefan/git-repos/work/swc/DeepCoord/venv-wsl/lib/python3.6/site-packages/tensorboard/compat/tensorflow_stub/dtypes.py:541: FutureWarning: Passing (type, 1) or '1type' as a synonym of type is deprecated; in a future version of numpy, it will be understood as (type, (1,)) / '(1,)type'.\n",
      "  _np_qint8 = np.dtype([(\"qint8\", np.int8, 1)])\n",
      "/mnt/c/Users/Stefan/git-repos/work/swc/DeepCoord/venv-wsl/lib/python3.6/site-packages/tensorboard/compat/tensorflow_stub/dtypes.py:542: FutureWarning: Passing (type, 1) or '1type' as a synonym of type is deprecated; in a future version of numpy, it will be understood as (type, (1,)) / '(1,)type'.\n",
      "  _np_quint8 = np.dtype([(\"quint8\", np.uint8, 1)])\n",
      "/mnt/c/Users/Stefan/git-repos/work/swc/DeepCoord/venv-wsl/lib/python3.6/site-packages/tensorboard/compat/tensorflow_stub/dtypes.py:543: FutureWarning: Passing (type, 1) or '1type' as a synonym of type is deprecated; in a future version of numpy, it will be understood as (type, (1,)) / '(1,)type'.\n",
      "  _np_qint16 = np.dtype([(\"qint16\", np.int16, 1)])\n",
      "/mnt/c/Users/Stefan/git-repos/work/swc/DeepCoord/venv-wsl/lib/python3.6/site-packages/tensorboard/compat/tensorflow_stub/dtypes.py:544: FutureWarning: Passing (type, 1) or '1type' as a synonym of type is deprecated; in a future version of numpy, it will be understood as (type, (1,)) / '(1,)type'.\n",
      "  _np_quint16 = np.dtype([(\"quint16\", np.uint16, 1)])\n",
      "/mnt/c/Users/Stefan/git-repos/work/swc/DeepCoord/venv-wsl/lib/python3.6/site-packages/tensorboard/compat/tensorflow_stub/dtypes.py:545: FutureWarning: Passing (type, 1) or '1type' as a synonym of type is deprecated; in a future version of numpy, it will be understood as (type, (1,)) / '(1,)type'.\n",
      "  _np_qint32 = np.dtype([(\"qint32\", np.int32, 1)])\n",
      "/mnt/c/Users/Stefan/git-repos/work/swc/DeepCoord/venv-wsl/lib/python3.6/site-packages/tensorboard/compat/tensorflow_stub/dtypes.py:550: FutureWarning: Passing (type, 1) or '1type' as a synonym of type is deprecated; in a future version of numpy, it will be understood as (type, (1,)) / '(1,)type'.\n",
      "  np_resource = np.dtype([(\"resource\", np.ubyte, 1)])\n",
      "2021-12-01 14:11:24,400 - root - INFO - Using Seed: 2871\n",
      "2021-12-01 14:11:24,944 - rlsp.envs.gym_env - INFO - min_delay: 15.0, max_delay: 45.0, diameter: 10\n",
      "2021-12-01 14:11:24,946 - rlsp.envs.gym_env - INFO - Observation space: ['ingress_traffic']\n",
      "Training for 2000 steps ...\n",
      "Interval 1 (0 steps performed)\n",
      "2000/2000 [==============================] - 96s 48ms/step - reward: -0.7664\n",
      "done, took 95.928 seconds\n",
      "2021-12-01 14:13:31,005 - root - INFO - FINISHED TRAINING\n",
      "2021-12-01 14:13:31,010 - rlsp.agents.rlsp_ddpg - INFO - saving model and weights to ./results/sample_agent/sample_network/abc/sample_config/2021-12-01_14-11-24_seed2871/weights.h5f\n",
      "2021-12-01 14:13:31,817 - root - INFO - Switching to testing mode\n",
      "2021-12-01 14:13:31,817 - root - INFO - load weights:./results/sample_agent/sample_network/abc/sample_config/2021-12-01_14-11-24_seed2871/weights\n",
      "Testing for 1 episodes ...\n",
      "Episode 1: reward: 0.000, steps: 200\n",
      "2021-12-01 14:13:39,325 - root - INFO - FINISHED TEST\n",
      "2021-12-01 14:13:39,326 - root - INFO - writing result to file: ./results/sample_agent/sample_network/abc/sample_config/2021-12-01_14-11-24_seed2871/test-2021-12-01_14-11-24_seed2871/result.yaml\n",
      "2021-12-01 14:13:39,343 - root - INFO - See ./results/sample_agent/sample_network/abc/sample_config/2021-12-01_14-11-24_seed2871/test-2021-12-01_14-11-24_seed2871/test.log for INFO log output.\n"
     ]
    }
   ],
   "source": [
    "!deepcoord res/config/agent/sample_agent.yaml res/networks/sample_network.graphml res/service_functions/abc.yaml res/config/simulator/sample_config.yaml 10 --append-test"
   ]
  },
  {
   "attachments": {
    "9fe27185-623c-4b42-83dc-b85ca2cf27e0.png": {
     "image/png": "[encoded data removed]"
    }
   },
   "cell_type": "markdown",
   "metadata": {
    "pycharm": {
     "name": "#%% md\n"
    },
    "tags": []
   },
   "source": [
    "\n",
    "**Important:** Make note of the path where the results are stored, eg:\n",
    "\n",
    "```\n",
    "2021-12-01 14:13:39,325 - root - INFO - FINISHED TEST\n",
    "2021-12-01 14:13:39,326 - root - INFO - writing result to file: ./results/sample_agent/sample_network/abc/sample_config/2021-12-01_14-11-24_seed2871/test-2021-12-01_14-11-24_seed2871/result.yaml\n",
    "2021-12-01 14:13:39,343 - root - INFO - See ./results/sample_agent/sample_network/abc/sample_config/2021-12-01_14-11-24_seed2871/test-2021-12-01_14-11-24_seed2871/test.log for INFO log output.\n",
    "```\n",
    "\n",
    "You will need the path of the test result later, here `./results/sample_agent/sample_network/abc/sample_config/2021-12-01_14-11-24_seed2871/test-2021-12-01_14-11-24_seed2871/result.yaml`\n",
    "\n",
    "\n",
    "## Monitor Training Progress on TensorBoard\n",
    "\n",
    "While DeepCoord is training, you can monitor its progress and view its learning curves on TensorBoard.\n",
    "\n",
    "DeepCoord saves TensorBoard-related graph files in the `graph` directory, which is created automatically, when you run DeepCoord.\n",
    "\n",
    "To run TensorBoard, simply run `tensorboard --logdir graph` in a separate terminal and open your browser at [localhost:6006](localhost:6006) (recommended).\n",
    "When looking at the episode reward, you can see that it grows quickly at the beginning and then starts to converge after some training.\n",
    "\n",
    "![image.png](attachment:9fe27185-623c-4b42-83dc-b85ca2cf27e0.png)\n",
    "\n",
    "Alternatively, you can also run TensorBoard in a Jupyter notebook:"
   ]
  },
  {
   "cell_type": "code",
   "execution_count": null,
   "metadata": {
    "collapsed": false,
    "jupyter": {
     "outputs_hidden": false
    },
    "pycharm": {
     "name": "#%%\n"
    }
   },
   "outputs": [],
   "source": [
    "# resolve issues with Google CoLab: https://github.com/tensorflow/tensorboard/issues/3549#issuecomment-627298300\n",
    "!pip uninstall -y tensorboard-plugin-wit"
   ]
  },
  {
   "cell_type": "code",
   "execution_count": 10,
   "metadata": {
    "collapsed": false,
    "jupyter": {
     "outputs_hidden": false
    },
    "pycharm": {
     "name": "#%%\n"
    }
   },
   "outputs": [
    {
     "name": "stdout",
     "output_type": "stream",
     "text": [
      "The tensorboard extension is already loaded. To reload it, use:\n",
      "  %reload_ext tensorboard\n"
     ]
    },
    {
     "data": {
      "text/plain": [
       "Reusing TensorBoard on port 6006 (pid 2460), started 0:06:02 ago. (Use '!kill 2460' to kill it.)"
      ]
     },
     "metadata": {},
     "output_type": "display_data"
    },
    {
     "name": "stderr",
     "output_type": "stream",
     "text": [
      "invalid info file: '/tmp/.tensorboard-info/pid-1164.info'\n",
      "Traceback (most recent call last):\n",
      "  File \"/mnt/c/Users/Stefan/git-repos/work/swc/DeepCoord/venv-wsl/lib/python3.6/site-packages/tensorboard/manager.py\", line 316, in get_all\n",
      "    info = _info_from_string(contents)\n",
      "  File \"/mnt/c/Users/Stefan/git-repos/work/swc/DeepCoord/venv-wsl/lib/python3.6/site-packages/tensorboard/manager.py\", line 155, in _info_from_string\n",
      "    raise ValueError(\"incompatible version: %r\" % (json_value,))\n",
      "ValueError: incompatible version: {'cache_key': 'eyJhcmd1bWVudHMiOlsiLS1sb2dkaXIiLCJyZXN1bHRzL1BQTy8iXSwiY29uZmlndXJlX2t3YXJncyI6e30sIndvcmtpbmdfZGlyZWN0b3J5IjoiL21udC9jL1VzZXJzL1N0ZWZhbi9naXQtcmVwb3Mvd29yay9kZWVwLXJsLW1vYmlsaXR5LW1hbmFnZW1lbnQifQ==', 'db': '', 'logdir': 'results/PPO/', 'path_prefix': '', 'pid': 1164, 'port': 6006, 'start_time': 1596633283, 'version': '2.2.2'}\n",
      "invalid info file: '/tmp/.tensorboard-info/pid-1164.info'\n",
      "Traceback (most recent call last):\n",
      "  File \"/mnt/c/Users/Stefan/git-repos/work/swc/DeepCoord/venv-wsl/lib/python3.6/site-packages/tensorboard/manager.py\", line 316, in get_all\n",
      "    info = _info_from_string(contents)\n",
      "  File \"/mnt/c/Users/Stefan/git-repos/work/swc/DeepCoord/venv-wsl/lib/python3.6/site-packages/tensorboard/manager.py\", line 155, in _info_from_string\n",
      "    raise ValueError(\"incompatible version: %r\" % (json_value,))\n",
      "ValueError: incompatible version: {'cache_key': 'eyJhcmd1bWVudHMiOlsiLS1sb2dkaXIiLCJyZXN1bHRzL1BQTy8iXSwiY29uZmlndXJlX2t3YXJncyI6e30sIndvcmtpbmdfZGlyZWN0b3J5IjoiL21udC9jL1VzZXJzL1N0ZWZhbi9naXQtcmVwb3Mvd29yay9kZWVwLXJsLW1vYmlsaXR5LW1hbmFnZW1lbnQifQ==', 'db': '', 'logdir': 'results/PPO/', 'path_prefix': '', 'pid': 1164, 'port': 6006, 'start_time': 1596633283, 'version': '2.2.2'}\n"
     ]
    },
    {
     "data": {
      "text/html": [
       "\n",
       "        <iframe\n",
       "            width=\"100%\"\n",
       "            height=\"800\"\n",
       "            src=\"http://localhost:6006\"\n",
       "            frameborder=\"0\"\n",
       "            allowfullscreen\n",
       "        ></iframe>\n",
       "        "
      ],
      "text/plain": [
       "<IPython.lib.display.IFrame at 0x7f1a21005b70>"
      ]
     },
     "metadata": {},
     "output_type": "display_data"
    }
   ],
   "source": [
    "%load_ext tensorboard\n",
    "\n",
    "# this prints tons of warnings and errors, but should still show tensorboard;\n",
    "# sometimes it also shows nothing\n",
    "# in this case just try running it from your terminal\n",
    "%tensorboard --logdir graph"
   ]
  },
  {
   "cell_type": "markdown",
   "metadata": {},
   "source": [
    "## Analyze Results\n",
    "\n",
    "To further analyzte the results, you can plot them.\n",
    "\n",
    "Here are some simple options, but you can do a lot more - depending on what you want to evaluate."
   ]
  },
  {
   "cell_type": "code",
   "execution_count": 12,
   "metadata": {},
   "outputs": [
    {
     "data": {
      "text/html": [
       "<div>\n",
       "<style scoped>\n",
       "    .dataframe tbody tr th:only-of-type {\n",
       "        vertical-align: middle;\n",
       "    }\n",
       "\n",
       "    .dataframe tbody tr th {\n",
       "        vertical-align: top;\n",
       "    }\n",
       "\n",
       "    .dataframe thead th {\n",
       "        text-align: right;\n",
       "    }\n",
       "</style>\n",
       "<table border=\"1\" class=\"dataframe\">\n",
       "  <thead>\n",
       "    <tr style=\"text-align: right;\">\n",
       "      <th></th>\n",
       "      <th>episode</th>\n",
       "      <th>time</th>\n",
       "      <th>total_flows</th>\n",
       "      <th>successful_flows</th>\n",
       "      <th>dropped_flows</th>\n",
       "      <th>in_network_flows</th>\n",
       "      <th>avg_end2end_delay</th>\n",
       "    </tr>\n",
       "  </thead>\n",
       "  <tbody>\n",
       "    <tr>\n",
       "      <th>0</th>\n",
       "      <td>1</td>\n",
       "      <td>0</td>\n",
       "      <td>1</td>\n",
       "      <td>0</td>\n",
       "      <td>0</td>\n",
       "      <td>1</td>\n",
       "      <td>0.0</td>\n",
       "    </tr>\n",
       "    <tr>\n",
       "      <th>1</th>\n",
       "      <td>1</td>\n",
       "      <td>100</td>\n",
       "      <td>10</td>\n",
       "      <td>6</td>\n",
       "      <td>0</td>\n",
       "      <td>4</td>\n",
       "      <td>45.0</td>\n",
       "    </tr>\n",
       "    <tr>\n",
       "      <th>2</th>\n",
       "      <td>1</td>\n",
       "      <td>200</td>\n",
       "      <td>20</td>\n",
       "      <td>16</td>\n",
       "      <td>0</td>\n",
       "      <td>4</td>\n",
       "      <td>45.0</td>\n",
       "    </tr>\n",
       "    <tr>\n",
       "      <th>3</th>\n",
       "      <td>1</td>\n",
       "      <td>300</td>\n",
       "      <td>30</td>\n",
       "      <td>26</td>\n",
       "      <td>0</td>\n",
       "      <td>4</td>\n",
       "      <td>45.0</td>\n",
       "    </tr>\n",
       "    <tr>\n",
       "      <th>4</th>\n",
       "      <td>1</td>\n",
       "      <td>400</td>\n",
       "      <td>40</td>\n",
       "      <td>36</td>\n",
       "      <td>0</td>\n",
       "      <td>4</td>\n",
       "      <td>45.0</td>\n",
       "    </tr>\n",
       "  </tbody>\n",
       "</table>\n",
       "</div>"
      ],
      "text/plain": [
       "   episode  time  total_flows  successful_flows  dropped_flows  \\\n",
       "0        1     0            1                 0              0   \n",
       "1        1   100           10                 6              0   \n",
       "2        1   200           20                16              0   \n",
       "3        1   300           30                26              0   \n",
       "4        1   400           40                36              0   \n",
       "\n",
       "   in_network_flows  avg_end2end_delay  \n",
       "0                 1                0.0  \n",
       "1                 4               45.0  \n",
       "2                 4               45.0  \n",
       "3                 4               45.0  \n",
       "4                 4               45.0  "
      ]
     },
     "execution_count": 12,
     "metadata": {},
     "output_type": "execute_result"
    }
   ],
   "source": [
    "import os\n",
    "import pandas as pd\n",
    "\n",
    "# YOU NEED TO CHANGE THIS: copy the result path from above - without the trailing \"result.yaml\"\n",
    "test_result_dir = \"results/sample_agent/sample_network/abc/sample_config/2021-12-01_14-11-24_seed2871/test-2021-12-01_14-11-24_seed2871\"\n",
    "test_result_dir = # YOUR TEST RESULT DIR HERE\n",
    "\n",
    "# read test results into pandas data frame\n",
    "test_results = os.path.join(test_result_dir, \"metrics.csv\")\n",
    "df = pd.read_csv(test_results)\n",
    "\n",
    "df.head()"
   ]
  },
  {
   "cell_type": "code",
   "execution_count": 17,
   "metadata": {},
   "outputs": [
    {
     "data": {
      "text/html": [
       "<div>\n",
       "<style scoped>\n",
       "    .dataframe tbody tr th:only-of-type {\n",
       "        vertical-align: middle;\n",
       "    }\n",
       "\n",
       "    .dataframe tbody tr th {\n",
       "        vertical-align: top;\n",
       "    }\n",
       "\n",
       "    .dataframe thead th {\n",
       "        text-align: right;\n",
       "    }\n",
       "</style>\n",
       "<table border=\"1\" class=\"dataframe\">\n",
       "  <thead>\n",
       "    <tr style=\"text-align: right;\">\n",
       "      <th></th>\n",
       "      <th>episode</th>\n",
       "      <th>time</th>\n",
       "      <th>total_flows</th>\n",
       "      <th>successful_flows</th>\n",
       "      <th>dropped_flows</th>\n",
       "      <th>in_network_flows</th>\n",
       "      <th>avg_end2end_delay</th>\n",
       "      <th>success_perc</th>\n",
       "    </tr>\n",
       "  </thead>\n",
       "  <tbody>\n",
       "    <tr>\n",
       "      <th>0</th>\n",
       "      <td>1</td>\n",
       "      <td>0</td>\n",
       "      <td>1</td>\n",
       "      <td>0</td>\n",
       "      <td>0</td>\n",
       "      <td>1</td>\n",
       "      <td>0.0</td>\n",
       "      <td>0.000000</td>\n",
       "    </tr>\n",
       "    <tr>\n",
       "      <th>1</th>\n",
       "      <td>1</td>\n",
       "      <td>100</td>\n",
       "      <td>10</td>\n",
       "      <td>6</td>\n",
       "      <td>0</td>\n",
       "      <td>4</td>\n",
       "      <td>45.0</td>\n",
       "      <td>60.000000</td>\n",
       "    </tr>\n",
       "    <tr>\n",
       "      <th>2</th>\n",
       "      <td>1</td>\n",
       "      <td>200</td>\n",
       "      <td>20</td>\n",
       "      <td>16</td>\n",
       "      <td>0</td>\n",
       "      <td>4</td>\n",
       "      <td>45.0</td>\n",
       "      <td>80.000000</td>\n",
       "    </tr>\n",
       "    <tr>\n",
       "      <th>3</th>\n",
       "      <td>1</td>\n",
       "      <td>300</td>\n",
       "      <td>30</td>\n",
       "      <td>26</td>\n",
       "      <td>0</td>\n",
       "      <td>4</td>\n",
       "      <td>45.0</td>\n",
       "      <td>86.666667</td>\n",
       "    </tr>\n",
       "    <tr>\n",
       "      <th>4</th>\n",
       "      <td>1</td>\n",
       "      <td>400</td>\n",
       "      <td>40</td>\n",
       "      <td>36</td>\n",
       "      <td>0</td>\n",
       "      <td>4</td>\n",
       "      <td>45.0</td>\n",
       "      <td>90.000000</td>\n",
       "    </tr>\n",
       "  </tbody>\n",
       "</table>\n",
       "</div>"
      ],
      "text/plain": [
       "   episode  time  total_flows  successful_flows  dropped_flows  \\\n",
       "0        1     0            1                 0              0   \n",
       "1        1   100           10                 6              0   \n",
       "2        1   200           20                16              0   \n",
       "3        1   300           30                26              0   \n",
       "4        1   400           40                36              0   \n",
       "\n",
       "   in_network_flows  avg_end2end_delay  success_perc  \n",
       "0                 1                0.0      0.000000  \n",
       "1                 4               45.0     60.000000  \n",
       "2                 4               45.0     80.000000  \n",
       "3                 4               45.0     86.666667  \n",
       "4                 4               45.0     90.000000  "
      ]
     },
     "execution_count": 17,
     "metadata": {},
     "output_type": "execute_result"
    }
   ],
   "source": [
    "# let's add a column with the percentage of successful flows (in [0,100]%)\n",
    "df[\"success_perc\"] = 100 * df[\"successful_flows\"] / df[\"total_flows\"]\n",
    "\n",
    "df.head()"
   ]
  },
  {
   "cell_type": "code",
   "execution_count": 18,
   "metadata": {},
   "outputs": [
    {
     "data": {
      "text/plain": [
       "Text(0.5, 1.0, 'Percentage of Successful Flows over Time')"
      ]
     },
     "execution_count": 18,
     "metadata": {},
     "output_type": "execute_result"
    },
    {
     "data": {
      "image/png": "[encoded data removed]",
      "text/plain": [
       "<Figure size 432x288 with 1 Axes>"
      ]
     },
     "metadata": {
      "needs_background": "light"
     },
     "output_type": "display_data"
    }
   ],
   "source": [
    "import seaborn as sns\n",
    "\n",
    "ax = sns.lineplot(x=df[\"time\"], y=df[\"success_perc\"])\n",
    "ax.set_title(\"Percentage of Successful Flows over Time\")"
   ]
  },
  {
   "cell_type": "markdown",
   "metadata": {},
   "source": [
    "Here, the scenario starts with 0 flows (thus 0 successful flows) and then quickly converges to almost 100% successful flows.\n",
    "\n",
    "Let's look at the end-to-end delay of these flows."
   ]
  },
  {
   "cell_type": "code",
   "execution_count": 19,
   "metadata": {},
   "outputs": [
    {
     "data": {
      "text/plain": [
       "Text(0.5, 1.0, 'Avg. End-to-end Delay of Flows over Time')"
      ]
     },
     "execution_count": 19,
     "metadata": {},
     "output_type": "execute_result"
    },
    {
     "data": {
      "image/png": "[encoded data removed]",
      "text/plain": [
       "<Figure size 432x288 with 1 Axes>"
      ]
     },
     "metadata": {
      "needs_background": "light"
     },
     "output_type": "display_data"
    }
   ],
   "source": [
    "ax = sns.lineplot(x=df[\"time\"], y=df[\"avg_end2end_delay\"])\n",
    "ax.set_title(\"Avg. End-to-end Delay of Flows over Time\")"
   ]
  },
  {
   "cell_type": "markdown",
   "metadata": {},
   "source": [
    "Since the scenario is very static, the end-to-end delay stays at a short, constant value."
   ]
  },
  {
   "cell_type": "code",
   "execution_count": null,
   "metadata": {},
   "outputs": [],
   "source": []
  }
 ],
 "metadata": {
  "kernelspec": {
   "display_name": "Python 3",
   "language": "python",
   "name": "python3"
  },
  "language_info": {
   "codemirror_mode": {
    "name": "ipython",
    "version": 3
   },
   "file_extension": ".py",
   "mimetype": "text/x-python",
   "name": "python",
   "nbconvert_exporter": "python",
   "pygments_lexer": "ipython3",
   "version": "3.6.15"
  }
 },
 "nbformat": 4,
 "nbformat_minor": 4
}
